{
 "cells": [
  {
   "cell_type": "code",
   "execution_count": 1,
   "id": "dae315cc",
   "metadata": {},
   "outputs": [],
   "source": [
    "import pandas as pd"
   ]
  },
  {
   "cell_type": "code",
   "execution_count": 2,
   "id": "b2fb7f0f",
   "metadata": {},
   "outputs": [
    {
     "name": "stdout",
     "output_type": "stream",
     "text": [
      "    Invoice_id Branch       City Customer_type  Gender  \\\n",
      "0  750-67-8428      A     Yangon        Member  Female   \n",
      "1  226-31-3081      C  Naypyitaw        Normal  Female   \n",
      "2  631-41-3108      A     Yangon        Normal    Male   \n",
      "3  123-19-1176      A     Yangon        Member    Male   \n",
      "4  373-73-7910      A     Yangon        Normal    Male   \n",
      "\n",
      "             Product_line  Unit_price  Quantity  Tax_5_percent   Total  \\\n",
      "0       Health and beauty       74.69         7          26.14  548.97   \n",
      "1  Electronic accessories       15.28         5           3.82   80.22   \n",
      "2      Home and lifestyle       46.33         7          16.22  340.53   \n",
      "3       Health and beauty       58.22         8          23.29  489.05   \n",
      "4       Sports and travel       86.31         7          30.21  634.38   \n",
      "\n",
      "         Date      Time      Payment    Cogs  Gross_margin_percentage  \\\n",
      "0  2019-01-05  13:08:00      Ewallet  522.83                     4.76   \n",
      "1  2019-03-08  10:29:00         Cash   76.40                     4.76   \n",
      "2  2019-03-03  13:23:00  Credit card  324.31                     4.76   \n",
      "3  2019-01-27  20:33:00      Ewallet  465.76                     4.76   \n",
      "4  2019-02-08  10:37:00      Ewallet  604.17                     4.76   \n",
      "\n",
      "   Gross_income  Rating  \n",
      "0         26.14     9.1  \n",
      "1          3.82     9.6  \n",
      "2         16.22     7.4  \n",
      "3         23.29     8.4  \n",
      "4         30.21     5.3  \n"
     ]
    }
   ],
   "source": [
    "\n",
    "df = pd.read_csv(r'D:\\new data\\datasets\\Walmart_data.csv')\n",
    "print(df.head())"
   ]
  },
  {
   "cell_type": "code",
   "execution_count": 6,
   "id": "77f185e8",
   "metadata": {},
   "outputs": [
    {
     "data": {
      "text/html": [
       "<div>\n",
       "<style scoped>\n",
       "    .dataframe tbody tr th:only-of-type {\n",
       "        vertical-align: middle;\n",
       "    }\n",
       "\n",
       "    .dataframe tbody tr th {\n",
       "        vertical-align: top;\n",
       "    }\n",
       "\n",
       "    .dataframe thead th {\n",
       "        text-align: right;\n",
       "    }\n",
       "</style>\n",
       "<table border=\"1\" class=\"dataframe\">\n",
       "  <thead>\n",
       "    <tr style=\"text-align: right;\">\n",
       "      <th></th>\n",
       "      <th>Invoice_id</th>\n",
       "      <th>Branch</th>\n",
       "      <th>City</th>\n",
       "      <th>Customer_type</th>\n",
       "      <th>Gender</th>\n",
       "      <th>Product_line</th>\n",
       "      <th>Unit_price</th>\n",
       "      <th>Quantity</th>\n",
       "      <th>Tax_5_percent</th>\n",
       "      <th>Total</th>\n",
       "      <th>Date</th>\n",
       "      <th>Time</th>\n",
       "      <th>Payment</th>\n",
       "      <th>Cogs</th>\n",
       "      <th>Gross_margin_percentage</th>\n",
       "      <th>Gross_income</th>\n",
       "      <th>Rating</th>\n",
       "    </tr>\n",
       "  </thead>\n",
       "  <tbody>\n",
       "    <tr>\n",
       "      <th>0</th>\n",
       "      <td>750-67-8428</td>\n",
       "      <td>A</td>\n",
       "      <td>Yangon</td>\n",
       "      <td>Member</td>\n",
       "      <td>Female</td>\n",
       "      <td>Health and beauty</td>\n",
       "      <td>74.69</td>\n",
       "      <td>7</td>\n",
       "      <td>26.14</td>\n",
       "      <td>548.97</td>\n",
       "      <td>2019-01-05</td>\n",
       "      <td>13:08:00</td>\n",
       "      <td>Ewallet</td>\n",
       "      <td>522.83</td>\n",
       "      <td>4.76</td>\n",
       "      <td>26.14</td>\n",
       "      <td>9.1</td>\n",
       "    </tr>\n",
       "    <tr>\n",
       "      <th>1</th>\n",
       "      <td>226-31-3081</td>\n",
       "      <td>C</td>\n",
       "      <td>Naypyitaw</td>\n",
       "      <td>Normal</td>\n",
       "      <td>Female</td>\n",
       "      <td>Electronic accessories</td>\n",
       "      <td>15.28</td>\n",
       "      <td>5</td>\n",
       "      <td>3.82</td>\n",
       "      <td>80.22</td>\n",
       "      <td>2019-03-08</td>\n",
       "      <td>10:29:00</td>\n",
       "      <td>Cash</td>\n",
       "      <td>76.40</td>\n",
       "      <td>4.76</td>\n",
       "      <td>3.82</td>\n",
       "      <td>9.6</td>\n",
       "    </tr>\n",
       "    <tr>\n",
       "      <th>2</th>\n",
       "      <td>631-41-3108</td>\n",
       "      <td>A</td>\n",
       "      <td>Yangon</td>\n",
       "      <td>Normal</td>\n",
       "      <td>Male</td>\n",
       "      <td>Home and lifestyle</td>\n",
       "      <td>46.33</td>\n",
       "      <td>7</td>\n",
       "      <td>16.22</td>\n",
       "      <td>340.53</td>\n",
       "      <td>2019-03-03</td>\n",
       "      <td>13:23:00</td>\n",
       "      <td>Credit card</td>\n",
       "      <td>324.31</td>\n",
       "      <td>4.76</td>\n",
       "      <td>16.22</td>\n",
       "      <td>7.4</td>\n",
       "    </tr>\n",
       "    <tr>\n",
       "      <th>3</th>\n",
       "      <td>123-19-1176</td>\n",
       "      <td>A</td>\n",
       "      <td>Yangon</td>\n",
       "      <td>Member</td>\n",
       "      <td>Male</td>\n",
       "      <td>Health and beauty</td>\n",
       "      <td>58.22</td>\n",
       "      <td>8</td>\n",
       "      <td>23.29</td>\n",
       "      <td>489.05</td>\n",
       "      <td>2019-01-27</td>\n",
       "      <td>20:33:00</td>\n",
       "      <td>Ewallet</td>\n",
       "      <td>465.76</td>\n",
       "      <td>4.76</td>\n",
       "      <td>23.29</td>\n",
       "      <td>8.4</td>\n",
       "    </tr>\n",
       "    <tr>\n",
       "      <th>4</th>\n",
       "      <td>373-73-7910</td>\n",
       "      <td>A</td>\n",
       "      <td>Yangon</td>\n",
       "      <td>Normal</td>\n",
       "      <td>Male</td>\n",
       "      <td>Sports and travel</td>\n",
       "      <td>86.31</td>\n",
       "      <td>7</td>\n",
       "      <td>30.21</td>\n",
       "      <td>634.38</td>\n",
       "      <td>2019-02-08</td>\n",
       "      <td>10:37:00</td>\n",
       "      <td>Ewallet</td>\n",
       "      <td>604.17</td>\n",
       "      <td>4.76</td>\n",
       "      <td>30.21</td>\n",
       "      <td>5.3</td>\n",
       "    </tr>\n",
       "    <tr>\n",
       "      <th>...</th>\n",
       "      <td>...</td>\n",
       "      <td>...</td>\n",
       "      <td>...</td>\n",
       "      <td>...</td>\n",
       "      <td>...</td>\n",
       "      <td>...</td>\n",
       "      <td>...</td>\n",
       "      <td>...</td>\n",
       "      <td>...</td>\n",
       "      <td>...</td>\n",
       "      <td>...</td>\n",
       "      <td>...</td>\n",
       "      <td>...</td>\n",
       "      <td>...</td>\n",
       "      <td>...</td>\n",
       "      <td>...</td>\n",
       "      <td>...</td>\n",
       "    </tr>\n",
       "    <tr>\n",
       "      <th>995</th>\n",
       "      <td>233-67-5758</td>\n",
       "      <td>C</td>\n",
       "      <td>Naypyitaw</td>\n",
       "      <td>Normal</td>\n",
       "      <td>Male</td>\n",
       "      <td>Health and beauty</td>\n",
       "      <td>40.35</td>\n",
       "      <td>1</td>\n",
       "      <td>2.02</td>\n",
       "      <td>42.37</td>\n",
       "      <td>2019-01-29</td>\n",
       "      <td>13:46:00</td>\n",
       "      <td>Ewallet</td>\n",
       "      <td>40.35</td>\n",
       "      <td>4.76</td>\n",
       "      <td>2.02</td>\n",
       "      <td>6.2</td>\n",
       "    </tr>\n",
       "    <tr>\n",
       "      <th>996</th>\n",
       "      <td>303-96-2227</td>\n",
       "      <td>B</td>\n",
       "      <td>Mandalay</td>\n",
       "      <td>Normal</td>\n",
       "      <td>Female</td>\n",
       "      <td>Home and lifestyle</td>\n",
       "      <td>97.38</td>\n",
       "      <td>10</td>\n",
       "      <td>48.69</td>\n",
       "      <td>1022.49</td>\n",
       "      <td>2019-03-02</td>\n",
       "      <td>17:16:00</td>\n",
       "      <td>Ewallet</td>\n",
       "      <td>973.80</td>\n",
       "      <td>4.76</td>\n",
       "      <td>48.69</td>\n",
       "      <td>4.4</td>\n",
       "    </tr>\n",
       "    <tr>\n",
       "      <th>997</th>\n",
       "      <td>727-02-1313</td>\n",
       "      <td>A</td>\n",
       "      <td>Yangon</td>\n",
       "      <td>Member</td>\n",
       "      <td>Male</td>\n",
       "      <td>Food and beverages</td>\n",
       "      <td>31.84</td>\n",
       "      <td>1</td>\n",
       "      <td>1.59</td>\n",
       "      <td>33.43</td>\n",
       "      <td>2019-02-09</td>\n",
       "      <td>13:22:00</td>\n",
       "      <td>Cash</td>\n",
       "      <td>31.84</td>\n",
       "      <td>4.76</td>\n",
       "      <td>1.59</td>\n",
       "      <td>7.7</td>\n",
       "    </tr>\n",
       "    <tr>\n",
       "      <th>998</th>\n",
       "      <td>347-56-2442</td>\n",
       "      <td>A</td>\n",
       "      <td>Yangon</td>\n",
       "      <td>Normal</td>\n",
       "      <td>Male</td>\n",
       "      <td>Home and lifestyle</td>\n",
       "      <td>65.82</td>\n",
       "      <td>1</td>\n",
       "      <td>3.29</td>\n",
       "      <td>69.11</td>\n",
       "      <td>2019-02-22</td>\n",
       "      <td>15:33:00</td>\n",
       "      <td>Cash</td>\n",
       "      <td>65.82</td>\n",
       "      <td>4.76</td>\n",
       "      <td>3.29</td>\n",
       "      <td>4.1</td>\n",
       "    </tr>\n",
       "    <tr>\n",
       "      <th>999</th>\n",
       "      <td>849-09-3807</td>\n",
       "      <td>A</td>\n",
       "      <td>Yangon</td>\n",
       "      <td>Member</td>\n",
       "      <td>Female</td>\n",
       "      <td>Fashion accessories</td>\n",
       "      <td>88.34</td>\n",
       "      <td>7</td>\n",
       "      <td>30.92</td>\n",
       "      <td>649.30</td>\n",
       "      <td>2019-02-18</td>\n",
       "      <td>13:28:00</td>\n",
       "      <td>Cash</td>\n",
       "      <td>618.38</td>\n",
       "      <td>4.76</td>\n",
       "      <td>30.92</td>\n",
       "      <td>6.6</td>\n",
       "    </tr>\n",
       "  </tbody>\n",
       "</table>\n",
       "<p>1000 rows × 17 columns</p>\n",
       "</div>"
      ],
      "text/plain": [
       "      Invoice_id Branch       City Customer_type  Gender  \\\n",
       "0    750-67-8428      A     Yangon        Member  Female   \n",
       "1    226-31-3081      C  Naypyitaw        Normal  Female   \n",
       "2    631-41-3108      A     Yangon        Normal    Male   \n",
       "3    123-19-1176      A     Yangon        Member    Male   \n",
       "4    373-73-7910      A     Yangon        Normal    Male   \n",
       "..           ...    ...        ...           ...     ...   \n",
       "995  233-67-5758      C  Naypyitaw        Normal    Male   \n",
       "996  303-96-2227      B   Mandalay        Normal  Female   \n",
       "997  727-02-1313      A     Yangon        Member    Male   \n",
       "998  347-56-2442      A     Yangon        Normal    Male   \n",
       "999  849-09-3807      A     Yangon        Member  Female   \n",
       "\n",
       "               Product_line  Unit_price  Quantity  Tax_5_percent    Total  \\\n",
       "0         Health and beauty       74.69         7          26.14   548.97   \n",
       "1    Electronic accessories       15.28         5           3.82    80.22   \n",
       "2        Home and lifestyle       46.33         7          16.22   340.53   \n",
       "3         Health and beauty       58.22         8          23.29   489.05   \n",
       "4         Sports and travel       86.31         7          30.21   634.38   \n",
       "..                      ...         ...       ...            ...      ...   \n",
       "995       Health and beauty       40.35         1           2.02    42.37   \n",
       "996      Home and lifestyle       97.38        10          48.69  1022.49   \n",
       "997      Food and beverages       31.84         1           1.59    33.43   \n",
       "998      Home and lifestyle       65.82         1           3.29    69.11   \n",
       "999     Fashion accessories       88.34         7          30.92   649.30   \n",
       "\n",
       "           Date      Time      Payment    Cogs  Gross_margin_percentage  \\\n",
       "0    2019-01-05  13:08:00      Ewallet  522.83                     4.76   \n",
       "1    2019-03-08  10:29:00         Cash   76.40                     4.76   \n",
       "2    2019-03-03  13:23:00  Credit card  324.31                     4.76   \n",
       "3    2019-01-27  20:33:00      Ewallet  465.76                     4.76   \n",
       "4    2019-02-08  10:37:00      Ewallet  604.17                     4.76   \n",
       "..          ...       ...          ...     ...                      ...   \n",
       "995  2019-01-29  13:46:00      Ewallet   40.35                     4.76   \n",
       "996  2019-03-02  17:16:00      Ewallet  973.80                     4.76   \n",
       "997  2019-02-09  13:22:00         Cash   31.84                     4.76   \n",
       "998  2019-02-22  15:33:00         Cash   65.82                     4.76   \n",
       "999  2019-02-18  13:28:00         Cash  618.38                     4.76   \n",
       "\n",
       "     Gross_income  Rating  \n",
       "0           26.14     9.1  \n",
       "1            3.82     9.6  \n",
       "2           16.22     7.4  \n",
       "3           23.29     8.4  \n",
       "4           30.21     5.3  \n",
       "..            ...     ...  \n",
       "995          2.02     6.2  \n",
       "996         48.69     4.4  \n",
       "997          1.59     7.7  \n",
       "998          3.29     4.1  \n",
       "999         30.92     6.6  \n",
       "\n",
       "[1000 rows x 17 columns]"
      ]
     },
     "execution_count": 6,
     "metadata": {},
     "output_type": "execute_result"
    }
   ],
   "source": [
    "df"
   ]
  },
  {
   "cell_type": "markdown",
   "id": "87afa260",
   "metadata": {},
   "source": [
    "## Walmart product Analysis "
   ]
  },
  {
   "cell_type": "code",
   "execution_count": 4,
   "id": "45834c8f",
   "metadata": {},
   "outputs": [],
   "source": [
    "import numpy as np"
   ]
  },
  {
   "cell_type": "code",
   "execution_count": 7,
   "id": "c4845e2e",
   "metadata": {},
   "outputs": [
    {
     "name": "stdout",
     "output_type": "stream",
     "text": [
      "    Gender            Product_line  purchase_count  rank_by_gender\n",
      "1   Female     Fashion accessories              96               1\n",
      "2   Female      Food and beverages              90               2\n",
      "5   Female       Sports and travel              88               3\n",
      "0   Female  Electronic accessories              84               4\n",
      "4   Female      Home and lifestyle              79               5\n",
      "3   Female       Health and beauty              64               6\n",
      "9     Male       Health and beauty              88               1\n",
      "6     Male  Electronic accessories              86               2\n",
      "8     Male      Food and beverages              84               3\n",
      "7     Male     Fashion accessories              82               4\n",
      "10    Male      Home and lifestyle              81               5\n",
      "11    Male       Sports and travel              78               6\n"
     ]
    }
   ],
   "source": [
    "# Most purchased product_line by gender\n",
    "\n",
    "grouped = df.groupby(['Gender', 'Product_line']).size().reset_index(name='purchase_count')\n",
    "\n",
    "grouped['rank_by_gender'] = grouped.groupby('Gender')['purchase_count']\\                                  \n",
    ".rank(method='dense', ascending=False)\n",
    ".astype(int)\n",
    "\n",
    "result = grouped.sort_values(by=['Gender', 'rank_by_gender'])\n",
    "\n",
    "print(result)"
   ]
  },
  {
   "cell_type": "code",
   "execution_count": 10,
   "id": "ba672774",
   "metadata": {},
   "outputs": [
    {
     "name": "stdout",
     "output_type": "stream",
     "text": [
      "Mean purchase count: 83.33333333333333\n",
      "Median purchase count: 84.0\n",
      "stardard deviation: 7.553512795749773\n"
     ]
    }
   ],
   "source": [
    "mean=np.mean(result['purchase_count'])\n",
    "median=np.median(result['purchase_count'])\n",
    "std=np.std(result['purchase_count'])\n",
    "\n",
    "print(\"Mean purchase count:\",mean)\n",
    "print(\"Median purchase count:\",median)\n",
    "print(\"stardard deviation:\",std)"
   ]
  },
  {
   "cell_type": "code",
   "execution_count": 20,
   "id": "de73ae29",
   "metadata": {},
   "outputs": [
    {
     "name": "stdout",
     "output_type": "stream",
     "text": [
      "   Gender       mean  median        std\n",
      "0  Female  83.500000    86.0  11.131038\n",
      "1    Male  83.166667    83.0   3.600926\n"
     ]
    }
   ],
   "source": [
    "\"\"\"Calculated mean, median, and standard deviation of purchase counts per product line\n",
    "within each gender group\n",
    "\n",
    "# df.groupby('gender')\tGroups the data into two buckets: Male and Female\n",
    "# ['purchase_count']\tWe’re only interested in the purchase_count column\n",
    "# .agg(['mean', 'median', 'std'])\tComputes the mean, median, and standard deviation for each gender group\n",
    "# .reset_index()\tConverts the group labels back into normal columns \"\"\"  \n",
    "\n",
    "\n",
    "grouped = df.groupby(['Gender', 'Product_line']).size().reset_index(name='purchase_count')\n",
    "grouped_stats=grouped.groupby('Gender')['purchase_count'].agg(['mean','median','std']).reset_index()\n",
    "\n",
    "print(grouped_stats)\n",
    "\n",
    "\"\"\"\n",
    "The data shows that both females and males purchase a similar average number of products (around 83),\n",
    "as seen from the mean values.\n",
    "\n",
    "However, the standard deviation (std) for females is much higher than that for males (11.13 vs. 3.60). This indicates that females show more variation in the quantity of different product categories they buy — they buy some product types much more than others.\n",
    "\n",
    "In contrast, males have a lower standard deviation, meaning they tend to \n",
    "purchase all product categories in similar quantities, showing more consistency and less preference.\n",
    "\n",
    "The median (the middle value when all product counts are sorted) is also slightly higher\n",
    "for females (86 vs. 83), which further supports that females generally buy slightly more \n",
    "in some categories.\n",
    "\"\"\""
   ]
  },
  {
   "cell_type": "code",
   "execution_count": 25,
   "id": "5fbc00ec",
   "metadata": {},
   "outputs": [
    {
     "name": "stdout",
     "output_type": "stream",
     "text": [
      "             Product_line  Quantity_sold\n",
      "2      Food and beverages       56144.87\n",
      "5       Sports and travel       55122.91\n",
      "0  Electronic accessories       54337.45\n",
      "1     Fashion accessories       54305.89\n",
      "4      Home and lifestyle       53861.91\n",
      "3       Health and beauty       49193.74\n"
     ]
    }
   ],
   "source": [
    "#  product line generates the highest total sales\n",
    "\n",
    "highest_sales=df.groupby('Product_line')['Total'].sum().reset_index()\n",
    "highest_sales=highest_sales.rename(columns={'Total':'Quantity_sold'})\n",
    "highest_sales=highest_sales.sort_values(by='Quantity_sold',ascending=False)\n",
    "\n",
    "print(highest_sales)\n"
   ]
  },
  {
   "cell_type": "code",
   "execution_count": 4,
   "id": "08a49388",
   "metadata": {},
   "outputs": [
    {
     "name": "stdout",
     "output_type": "stream",
     "text": [
      "             Product_line  Avg_unit_price\n",
      "1     Fashion accessories       57.153652\n",
      "5       Sports and travel       56.993253\n",
      "2      Food and beverages       56.008851\n",
      "4      Home and lifestyle       55.316937\n",
      "3       Health and beauty       54.854474\n",
      "0  Electronic accessories       53.551588\n"
     ]
    }
   ],
   "source": [
    "# the average unit price per product line.\n",
    "\n",
    "Average_unit=df.groupby('Product_line')['Unit_price'].mean().reset_index()\n",
    "Average_unit=Average_unit.rename(columns={'Unit_price':'Avg_unit_price'})\n",
    "Average_unit=Average_unit.sort_values(by='Avg_unit_price',ascending=False)\n",
    "\n",
    "print(Average_unit)"
   ]
  },
  {
   "cell_type": "code",
   "execution_count": 8,
   "id": "446aa83c",
   "metadata": {},
   "outputs": [
    {
     "name": "stdout",
     "output_type": "stream",
     "text": [
      "             Product_line  Cust_rating\n",
      "2      Food and beverages     7.113218\n",
      "1     Fashion accessories     7.029213\n",
      "3       Health and beauty     7.003289\n",
      "0  Electronic accessories     6.924706\n",
      "5       Sports and travel     6.916265\n",
      "4      Home and lifestyle     6.837500\n"
     ]
    }
   ],
   "source": [
    "# Which product line has the highest customer rating on average\n",
    "\n",
    "Customer_rating=df.groupby('Product_line')['Rating'].mean().reset_index()\n",
    "Customer_rating=Customer_rating.rename(columns={'Rating':'Cust_rating'})\n",
    "Customer_rating=Customer_rating.sort_values(by='Cust_rating',ascending=False)\n",
    "\n",
    "print(Customer_rating)"
   ]
  },
  {
   "cell_type": "code",
   "execution_count": 9,
   "id": "4cf7c57f",
   "metadata": {},
   "outputs": [
    {
     "name": "stdout",
     "output_type": "stream",
     "text": [
      "             Product_line  Quantity_sold\n",
      "0  Electronic accessories            971\n",
      "2      Food and beverages            952\n",
      "5       Sports and travel            920\n",
      "4      Home and lifestyle            911\n",
      "1     Fashion accessories            902\n",
      "3       Health and beauty            854\n"
     ]
    }
   ],
   "source": [
    "# Which product line has the highest quantity sold?\n",
    "\n",
    "Quantity_sold=df.groupby('Product_line')['Quantity'].sum().reset_index()\n",
    "Quantity_sold=Quantity_sold.rename(columns={'Quantity':'Quantity_sold'})\n",
    "Quantity_sold=Quantity_sold.sort_values(by='Quantity_sold',ascending=False)\n",
    "\n",
    "print(Quantity_sold)"
   ]
  },
  {
   "cell_type": "code",
   "execution_count": 21,
   "id": "d39db42e",
   "metadata": {},
   "outputs": [
    {
     "name": "stdout",
     "output_type": "stream",
     "text": [
      "             Product_line  Gross_income\n",
      "4      Home and lifestyle     16.030000\n",
      "5       Sports and travel     15.813072\n",
      "3       Health and beauty     15.412105\n",
      "2      Food and beverages     15.365402\n",
      "0  Electronic accessories     15.220765\n",
      "1     Fashion accessories     14.528034\n",
      "standard deviation:\n",
      " 11.702986544463766\n",
      "Variance:\n",
      " 136.95989405989997\n"
     ]
    }
   ],
   "source": [
    "# Is there a significant difference in gross income among product lines?\n",
    "\"\"\"\n",
    "Product_gross_income =df.groupby('Product_line')['Gross_income'].mean().reset_index()\n",
    "Product_gross_income=Product_gross_income.rename(columns={'Gross_income':'Gross_income'})\n",
    "Product_gross_income=Product_gross_income.sort_values(by='Gross_income',ascending=False)\n",
    "\n",
    "print(Product_gross_income)\n",
    "\n",
    "Gross_income_std=np.std(df['Gross_income'])\n",
    "Gross_income_var=np.var(df['Gross_income'])\n",
    "\n",
    "print(\"standard deviation:\\n\",Gross_income_std)\n",
    "print(\"Variance:\\n\",Gross_income_var)  \"\"\""
   ]
  },
  {
   "cell_type": "code",
   "execution_count": 5,
   "id": "1ba79edc",
   "metadata": {},
   "outputs": [
    {
     "name": "stdout",
     "output_type": "stream",
     "text": [
      "F-statistic: 0.3379623138426643\n",
      "p-value: 0.8900413363238716\n"
     ]
    }
   ],
   "source": [
    "# Is there a significant difference in gross income among product lines?\n",
    "from scipy.stats import f_oneway\n",
    "\n",
    "grouped_data=[group['Gross_income'].values for name, group in df.groupby('Product_line')]\n",
    "\n",
    "\"\"\" Each product line is treated as a separate group\n",
    "🟦 Between-group variance: How far the product line means are from the overall mean\n",
    "\n",
    "🟨 Within-group variance: How spread out the values are inside each group\"\"\"\n",
    "\n",
    "anova_result=f_oneway(*grouped_data)\n",
    "\n",
    "print(\"F-statistic:\", anova_result.statistic)\n",
    "\n",
    "\"\"\"\n",
    "If p < 0.05, the group means are significantly different\n",
    "\n",
    "If p > 0.05, the differences might be due to chance\"\"\"\n",
    "print(\"p-value:\", anova_result.pvalue)"
   ]
  },
  {
   "cell_type": "markdown",
   "id": "9bbbc347",
   "metadata": {},
   "source": [
    "## Walmart Customer Analysis "
   ]
  },
  {
   "cell_type": "code",
   "execution_count": 5,
   "id": "454873a0",
   "metadata": {},
   "outputs": [
    {
     "name": "stdout",
     "output_type": "stream",
     "text": [
      "  Customer_type  Avg_spent_amount\n",
      "0        Member        327.791337\n",
      "1        Normal        318.122866\n"
     ]
    }
   ],
   "source": [
    "# Do members spend more than non-members on average\n",
    "\n",
    "Customers=df.groupby('Customer_type')['Total'].mean().reset_index()\n",
    "Customers=Customers.rename(columns={'Total':'Avg_spent_amount'})\n",
    "Customers=Customers.sort_values(by='Avg_spent_amount',ascending=False)\n",
    "\n",
    "print(Customers)"
   ]
  },
  {
   "cell_type": "code",
   "execution_count": 6,
   "id": "016fa9bb",
   "metadata": {},
   "outputs": [
    {
     "name": "stdout",
     "output_type": "stream",
     "text": [
      "   Gender  spend_amount\n",
      "0  Female    335.095709\n",
      "1    Male    310.789218\n"
     ]
    }
   ],
   "source": [
    "# significant difference in total spending between male and female customers\n",
    "\n",
    "Gender_spending=df.groupby('Gender')['Total'].mean().reset_index()\n",
    "Gender_spending=Gender_spending.rename(columns={'Total':'spend_amount'})\n",
    "Gender_spending=Gender_spending.sort_values(by='spend_amount',ascending=False)\n",
    "\n",
    "print(Gender_spending)"
   ]
  },
  {
   "cell_type": "code",
   "execution_count": 7,
   "id": "64cb3567",
   "metadata": {},
   "outputs": [
    {
     "name": "stdout",
     "output_type": "stream",
     "text": [
      "   Gender  Avg_rating\n",
      "1    Male    6.980962\n",
      "0  Female    6.964471\n"
     ]
    }
   ],
   "source": [
    "#  Average rating given by male vs female customers.\n",
    "\n",
    "Gender_rating=df.groupby('Gender')['Rating'].mean().reset_index()\n",
    "Gender_rating=Gender_rating.rename(columns={'Rating':'Avg_rating'})\n",
    "Gender_rating=Gender_rating.sort_values(by='Avg_rating',ascending=False)\n",
    "\n",
    "print(Gender_rating)"
   ]
  },
  {
   "cell_type": "code",
   "execution_count": 10,
   "id": "4b71e2d1",
   "metadata": {},
   "outputs": [
    {
     "name": "stdout",
     "output_type": "stream",
     "text": [
      "   Gender      mean       std\n",
      "0  Female  6.964471  1.755761\n",
      "1    Male  6.980962  1.682146\n"
     ]
    }
   ],
   "source": [
    "#  gender gives higher average ratings( mean and std)\n",
    "\n",
    "grouped_stats=df.groupby('Gender')['Rating'].agg(['mean','std']).reset_index()\n",
    "\n",
    "print(grouped_stats)\n"
   ]
  },
  {
   "cell_type": "markdown",
   "id": "eb89dcf5",
   "metadata": {},
   "source": [
    "## Walmart Sales Analysis"
   ]
  },
  {
   "cell_type": "code",
   "execution_count": 7,
   "id": "ec6ca1ce",
   "metadata": {},
   "outputs": [
    {
     "name": "stdout",
     "output_type": "stream",
     "text": [
      "  Branch  Branch_Revenue\n",
      "2      C       110568.72\n",
      "0      A       106200.34\n",
      "1      B       106197.71\n"
     ]
    }
   ],
   "source": [
    "# Branch generates the most revenue.\n",
    "\n",
    "Branch=df.groupby('Branch')['Total'].sum().reset_index()\n",
    "Branch=Branch.rename(columns={'Total':'Branch_Revenue'})\n",
    "Branch=Branch.sort_values(by='Branch_Revenue',ascending=False)\n",
    "\n",
    "print(Branch)"
   ]
  },
  {
   "cell_type": "code",
   "execution_count": 13,
   "id": "82316a7c",
   "metadata": {},
   "outputs": [
    {
     "name": "stdout",
     "output_type": "stream",
     "text": [
      "          Date   Avg_sales\n",
      "41  2019-02-11  567.768750\n",
      "87  2019-03-29  502.906250\n",
      "11  2019-01-12  471.339091\n",
      "49  2019-02-19  469.792222\n",
      "67  2019-03-09  467.127500\n",
      "..         ...         ...\n",
      "71  2019-03-13  206.361000\n",
      "76  2019-03-18  184.691429\n",
      "65  2019-03-07  159.806667\n",
      "84  2019-03-26  150.963077\n",
      "43  2019-02-13  116.781250\n",
      "\n",
      "[89 rows x 2 columns]\n",
      "          Date  Total_sales\n",
      "67  2019-03-09      7474.04\n",
      "37  2019-02-07      7228.19\n",
      "72  2019-03-14      7214.63\n",
      "45  2019-02-15      6830.79\n",
      "60  2019-03-02      6560.30\n",
      "..         ...          ...\n",
      "48  2019-02-18      1496.03\n",
      "65  2019-03-07      1438.26\n",
      "51  2019-02-21      1393.74\n",
      "76  2019-03-18      1292.84\n",
      "43  2019-02-13       934.25\n",
      "\n",
      "[89 rows x 2 columns]\n"
     ]
    }
   ],
   "source": [
    "# What is the daily average sales across the dataset.\n",
    "\n",
    "Sales=df.groupby('Date')['Total'].mean().reset_index()\n",
    "Sales=Sales.rename(columns={'Total':'Avg_sales'})\n",
    "Sales=Sales.sort_values(by='Avg_sales',ascending=False)\n",
    "\n",
    "print(Sales)\n",
    "\n",
    "Sales=df.groupby('Date')['Total'].sum().reset_index()\n",
    "Sales=Sales.rename(columns={'Total':'Total_sales'})\n",
    "Sales=Sales.sort_values(by='Total_sales',ascending=False)\n",
    "\n",
    "print(Sales)"
   ]
  },
  {
   "cell_type": "code",
   "execution_count": 21,
   "id": "8d4aee63",
   "metadata": {},
   "outputs": [
    {
     "name": "stdout",
     "output_type": "stream",
     "text": [
      "             Product_line  Avg_Gross_income\n",
      "4      Home and lifestyle         16.030000\n",
      "5       Sports and travel         15.813072\n",
      "3       Health and beauty         15.412105\n",
      "2      Food and beverages         15.365402\n",
      "0  Electronic accessories         15.220765\n",
      "1     Fashion accessories         14.528034\n"
     ]
    }
   ],
   "source": [
    "# What is the average gross income per transaction.\n",
    "\n",
    "Gross_inc=df.groupby('Product_line')['Gross_income'].mean().reset_index()\n",
    "Gross_inc=Gross_inc.rename(columns={'Gross_income':'Avg_Gross_income'})\n",
    "Gross_inc=Gross_inc.sort_values(by='Avg_Gross_income',ascending=False)\n",
    "\n",
    "print(Gross_inc)"
   ]
  },
  {
   "cell_type": "code",
   "execution_count": 22,
   "id": "21e3699e",
   "metadata": {},
   "outputs": [
    {
     "name": "stdout",
     "output_type": "stream",
     "text": [
      "             Product_line    Avg_tax\n",
      "4      Home and lifestyle  16.030000\n",
      "5       Sports and travel  15.813072\n",
      "3       Health and beauty  15.412105\n",
      "2      Food and beverages  15.365402\n",
      "0  Electronic accessories  15.220765\n",
      "1     Fashion accessories  14.528034\n"
     ]
    }
   ],
   "source": [
    "# How much tax is collected on average per product line\n",
    "\n",
    "Tax_per_product=df.groupby('Product_line')['Tax_5_percent'].mean().reset_index()\n",
    "Tax_per_product=Tax_per_product.rename(columns={'Tax_5_percent':'Avg_tax'})\n",
    "Tax_per_product=Tax_per_product.sort_values(by='Avg_tax',ascending=False)\n",
    "\n",
    "print(Tax_per_product)"
   ]
  },
  {
   "cell_type": "code",
   "execution_count": null,
   "id": "6fd43c41",
   "metadata": {},
   "outputs": [],
   "source": []
  },
  {
   "cell_type": "code",
   "execution_count": null,
   "id": "7b6658c8",
   "metadata": {},
   "outputs": [],
   "source": []
  },
  {
   "cell_type": "code",
   "execution_count": null,
   "id": "ec55b2df",
   "metadata": {},
   "outputs": [],
   "source": []
  },
  {
   "cell_type": "code",
   "execution_count": null,
   "id": "62d0a733",
   "metadata": {},
   "outputs": [],
   "source": []
  }
 ],
 "metadata": {
  "kernelspec": {
   "display_name": "Python 3 (ipykernel)",
   "language": "python",
   "name": "python3"
  },
  "language_info": {
   "codemirror_mode": {
    "name": "ipython",
    "version": 3
   },
   "file_extension": ".py",
   "mimetype": "text/x-python",
   "name": "python",
   "nbconvert_exporter": "python",
   "pygments_lexer": "ipython3",
   "version": "3.9.13"
  }
 },
 "nbformat": 4,
 "nbformat_minor": 5
}
